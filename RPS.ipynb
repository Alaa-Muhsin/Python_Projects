{
 "cells": [
  {
   "cell_type": "code",
   "execution_count": 10,
   "id": "77c31d97-7100-4c7e-adc8-03c8bd6a4879",
   "metadata": {},
   "outputs": [
    {
     "name": "stdin",
     "output_type": "stream",
     "text": [
      "\n",
      "Please Enter Your name :  alaa\n",
      "Please Enter the number of rounds 1\n"
     ]
    },
    {
     "name": "stdout",
     "output_type": "stream",
     "text": [
      "\n",
      "Round 1 :\n"
     ]
    },
    {
     "name": "stdin",
     "output_type": "stream",
     "text": [
      "Please Enter Your Choice R , P or S :  K\n",
      "Invalid Choice , Please Enter Your Choice R , P or S :  1\n",
      "Invalid Choice , Please Enter Your Choice R , P or S :  P\n"
     ]
    },
    {
     "name": "stdout",
     "output_type": "stream",
     "text": [
      "Computer's choice: R\n",
      "alaa wins round 1\n",
      "Round 1 \n",
      "PC : alaa \n",
      " 0 : 1\n",
      "\n",
      "Game is Finished\n",
      "PC : alaa \n",
      " 0 : 1\n"
     ]
    },
    {
     "name": "stdin",
     "output_type": "stream",
     "text": [
      "\n",
      "Do you want to play again ? Y or N : N\n"
     ]
    }
   ],
   "source": [
    "import random     #To play as PC \n",
    "\n",
    "choices = {0:'R', 1:'P', 2:'S'} \n",
    "\n",
    "\n",
    "def play(num_rounds):\n",
    "    \n",
    "    PC_win_counter = 0\n",
    "    user_win_counter = 0\n",
    "    draws_counter = 0\n",
    "    \n",
    "    for i in range(num_rounds):   \n",
    "\n",
    "        #Take an input from the user \n",
    "        print(f\"\\nRound {i+1} :\")\n",
    "        user_choice = input(\"Please Enter Your Choice R , P or S : \")\n",
    "\n",
    "        #loop until valid input\n",
    "        while(user_choice.upper() not in {\"R\",\"P\",\"S\"}):\n",
    "            user_choice = input(\"Invalid Choice , Please Enter Your Choice R , P or S : \")\n",
    "\n",
    "        #use random to play as PC\n",
    "        PC_choice = choices[random.randint(0,2)]\n",
    "        print(f\"Computer's choice: {PC_choice}\")\n",
    "\n",
    "\n",
    "        #check the reasult of the game \n",
    "        if (PC_choice.upper() == \"R\" and user_choice.upper() == \"S\") or (PC_choice.upper() == \"P\" and user_choice.upper() == \"R\") or (PC_choice.upper() == \"S\" and user_choice.upper() == \"P\"):\n",
    "            PC_win_counter += 1\n",
    "            print(f\"PC wins round {i+1}\")\n",
    "            \n",
    "        elif PC_choice.upper() == user_choice.upper():\n",
    "            draws_counter += 1\n",
    "            print(f\"Round {i+1} is draw\")\n",
    "            \n",
    "        else:\n",
    "            user_win_counter += 1\n",
    "            print(f\"{user_name} wins round {i+1}\")\n",
    "\n",
    "\n",
    "        #Showing the result after each round\n",
    "        print(f\"Round {i+1} \\nPC : {user_name} \\n {PC_win_counter} : {user_win_counter}\")\n",
    "\n",
    "    #Game is Finished\n",
    "    print(\"\\nGame is Finished\")\n",
    "    print(f\"PC : {user_name} \\n {PC_win_counter} : {user_win_counter}\")\n",
    "\n",
    "\n",
    "while True:\n",
    "    user_name =input(\"\\nPlease Enter Your name : \")\n",
    "\n",
    "    #value should be an integer only \n",
    "    try:\n",
    "        rounds = int(input(\"Please Enter the number of rounds\")) \n",
    "        play(rounds)\n",
    "    except ValueError:\n",
    "        print(\"Please Enter Numeric Values Only\\n\")\n",
    "\n",
    "    #playing again or close the game\n",
    "    playing_again =input(\"\\nDo you want to play again ? Y or N :\")\n",
    "    while playing_again.upper() not in [\"Y\",\"N\"]:\n",
    "        print(\"\\nInvaild character please enter Y or N\")\n",
    "        playing_again =input(\"Do you want to play again ? Y or N :\")\n",
    "\n",
    "    if (playing_again.upper() == \"N\"):\n",
    "        break\n",
    "        \n",
    "\n",
    "\n",
    "            \n",
    "        \n",
    "    "
   ]
  },
  {
   "cell_type": "code",
   "execution_count": null,
   "id": "0144b3c4-eda9-4933-8226-0ade80261ee7",
   "metadata": {},
   "outputs": [],
   "source": []
  }
 ],
 "metadata": {
  "kernelspec": {
   "display_name": "Python 3 (ipykernel)",
   "language": "python",
   "name": "python3"
  },
  "language_info": {
   "codemirror_mode": {
    "name": "ipython",
    "version": 3
   },
   "file_extension": ".py",
   "mimetype": "text/x-python",
   "name": "python",
   "nbconvert_exporter": "python",
   "pygments_lexer": "ipython3",
   "version": "3.9.19"
  }
 },
 "nbformat": 4,
 "nbformat_minor": 5
}
